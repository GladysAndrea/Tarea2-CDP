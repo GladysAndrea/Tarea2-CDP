{
 "cells": [
  {
   "cell_type": "markdown",
   "metadata": {},
   "source": [
    "# **Tarea 2**\n",
    "##### _Gladys Andrea Rodríguez Guerrero_"
   ]
  },
  {
   "cell_type": "markdown",
   "metadata": {},
   "source": [
    "## Git\n",
    "![](git.png \"Git\")"
   ]
  },
  {
   "cell_type": "markdown",
   "metadata": {},
   "source": [
    "Es un sistema de control de versiones (_VCS_, por sus siglas en inglés), permitiendo trabajar en grupo.\n",
    "\n",
    "Para entender más qué es git, se puede comparar con una foto:\n",
    "\n",
    "> Captura el contexto y el momento y lo almacena en un álbum\n",
    "\n",
    "Lo mismo pasa con git, guarda un registro de todos los cambios que sufra un proyecto/archivo\n",
    "\n",
    "Trabaja con un repositorio el cual permite llevar el **_historial de todos_** los archivos que se van subiendo, ya que permite el manejo de versiones de uno o varios archivos. Mediante un **commit** se **_registran los cambios_** que se van realizando (no es un proceso automático), se debe especificar qué cambio se realizó, mediante un comentario. Por lo anterior, git registra quién hizo alguna modificación y cuando\n",
    "\n",
    "Por medio de _ramas_ se pueden trabajar en un ambiente aislado, que no afecta el proyecto principal.\n",
    "\n",
    "Cada usuario tiene acceso a un _clon_ del repositorio es decir una copia del archivo. Además, en base a un proyecto, también se puede crear otro, tomando un camino distinto pero **_sin afectar el original_**.\n",
    "\n",
    "**_Características:_**\n",
    "\n",
    " + Distribuido: cada integrante del equipo tiene una copia local, sin necesidad de tener acceso a internet. \n",
    " + Backup: si algo sale mal, no se pierde todo el proyecto, se puede recuperar\n",
    " + Ahorra tiempo: permite fucionar de forma más rápida los cambios que cada integrante realizó.\n",
    "\n"
   ]
  },
  {
   "cell_type": "markdown",
   "metadata": {},
   "source": [
    "**_Proceso General:_**\n",
    "\n",
    "![](flujo.jpg \"Flujo\")\n",
    "\n",
    "Se tienen dos ramas\n",
    "1. Master: rama principal, no se trabaja sobre ella\n",
    "2. DEV (Developer): se usa para realizar las modificaciones:\n",
    " 1. Se ramifica para que se pueda dividir el trabajo y cada uno haga su parte sin interrumpir al otro. Al finalizar su parte, las ramas se integran al DEV\n",
    " 2. Se sugiere un líder de trabajo para que revise las versiones y modificaciones del dev\n",
    " \n",
    "Cuando ya están todos los cambios se hace un _Merge_ al master, para actualizar la información\n",
    "\n",
    "**_Proceso para subir archivos:_**\n",
    "\n",
    "1. Crear el repositorio en [GitHub](https://github.com/) o en el repositorio de su preferencia\n",
    " 1. Abrir Git Bash o CMD, escribir: **_git init_** (para subir un archivo desde 0) o **_git clone_** (para clonar un proyecto ya iniciado)\n",
    "2. Actualizar cambios: **_git commit_** para almacenar el área de stage, es decir el área de preparación.\n",
    " 1. Con el comando **_git add_** se sube a la nube para actualizar la versión\n",
    "\n",
    "> Para más información, ver sección ejemplo"
   ]
  },
  {
   "cell_type": "markdown",
   "metadata": {},
   "source": [
    "## GitHub\n",
    "![](github.png \"Logo GitHub\")"
   ]
  },
  {
   "cell_type": "markdown",
   "metadata": {},
   "source": [
    "Es una platafoma en línea que contiene las versiones subidas mediante git, que actualmente le pertence a Microsoft. \n",
    "\n",
    "Se le conoce como la red social de programadores, Puede ser pubilco (gratis) o privado (pagado). \n",
    "\n",
    "La principal diferencia entre git y github (aunque son complemetarias) en que la primera es versión escritorio mientras que la segunda, github es para el trabajo en línea\n",
    "\n",
    "El proceso para subir un archivo al repositorio es: \n",
    "1. Crear un nuevo repositorio\n",
    "2. Copiar dirección para subir archivos\n",
    "3. Mediante _git bash_ o _cmd_ se ejecutan los comandos para subir o actualizar archivos \n",
    "4. Cuando se ha cargado el archivo gisthub permite ver el código creado o modificarlo \n",
    "\n",
    "También permite descargar y/o clonar el archivo para poder modificarlo desde el escritorio de cada persona, sin modificar el proyecto original\n"
   ]
  },
  {
   "cell_type": "markdown",
   "metadata": {},
   "source": [
    "\n",
    "Ambas herramientas se pueden comparar de la siguiente manera\n",
    "\n",
    "![](proceso.jpeg \"Logo GitHub\")\n",
    "\n",
    "| **Git** | **GitHub** |\n",
    "| :---: | :---: |\n",
    "| Versión desktop | Versión On-line |\n",
    "| Es personal| Es colaborativo |\n",
    "| Usa línea de comandos | Se puede actualizar con interfaz |"
   ]
  },
  {
   "cell_type": "markdown",
   "metadata": {},
   "source": [
    "# Ejemplo:\n",
    "##### GitHub\n",
    "\n",
    "_En necesario tener creada una cuenta de Github_\n",
    "\n",
    "1. Ingresar a Git\n",
    "2. Click al signo \"**_+_**\" y crear \"**_Nuevo repositorio_**\"\n",
    " 1. Llenar los datos correspondientes y crear\n",
    "3. Copiar link que aparece y guardarlo, servirá para más adelante\n",
    "\n",
    "![](link.png \"Link\")"
   ]
  },
  {
   "cell_type": "markdown",
   "metadata": {},
   "source": [
    "# Ejemplo:\n",
    "##### Git\n",
    "\n",
    "A continuación se presenta el ejemplo para subir un archivo desde 0.\n",
    "\n",
    "1. Se debe de crear una carpeta que contenga todos los datos del proyecto\n",
    "2. Abrir CMD o Git Bash\n",
    "\n",
    "![](Bash.jpg \"Git Bash\")\n",
    "\n",
    "3. Para hallar la ubicación del archivo se colocan los siguientes comandos:"
   ]
  },
  {
   "cell_type": "code",
   "execution_count": null,
   "metadata": {},
   "outputs": [],
   "source": [
    "%%cmd\n",
    "ls\n",
    "cd Documents/CDP-2021/Tarea2 # colocar ruta donde se encuentran los archivos del proyecto"
   ]
  },
  {
   "cell_type": "markdown",
   "metadata": {},
   "source": [
    "Si es primera vez hacer:"
   ]
  },
  {
   "cell_type": "code",
   "execution_count": null,
   "metadata": {},
   "outputs": [],
   "source": [
    "git config -- global user.name \"Escribir Usuario\""
   ]
  },
  {
   "cell_type": "code",
   "execution_count": null,
   "metadata": {},
   "outputs": [],
   "source": [
    "git config -- global user.email \"Escribir mail\""
   ]
  },
  {
   "cell_type": "markdown",
   "metadata": {},
   "source": [
    "4. Para iniciar a usar GIT:"
   ]
  },
  {
   "cell_type": "code",
   "execution_count": 4,
   "metadata": {},
   "outputs": [
    {
     "name": "stdout",
     "output_type": "stream",
     "text": [
      "Microsoft Windows [Versión 10.0.19041.804]\n",
      "(c) 2020 Microsoft Corporation. Todos los derechos reservados.\n",
      "\n",
      "(base) C:\\Users\\Usuario\\Documents\\CDP-2021\\Tarea2>git init\n",
      "Reinitialized existing Git repository in C:/Users/Usuario/Documents/CDP-2021/Tarea2/.git/\n",
      "\n",
      "(base) C:\\Users\\Usuario\\Documents\\CDP-2021\\Tarea2>"
     ]
    }
   ],
   "source": [
    "%%cmd\n",
    "git init"
   ]
  },
  {
   "cell_type": "markdown",
   "metadata": {},
   "source": [
    "5. Para ver es estatus de los archivos y que es lo que contiene la carpeta"
   ]
  },
  {
   "cell_type": "code",
   "execution_count": 5,
   "metadata": {},
   "outputs": [
    {
     "name": "stdout",
     "output_type": "stream",
     "text": [
      "Microsoft Windows [Versión 10.0.19041.804]\n",
      "(c) 2020 Microsoft Corporation. Todos los derechos reservados.\n",
      "\n",
      "(base) C:\\Users\\Usuario\\Documents\\CDP-2021\\Tarea2>git status\n",
      "On branch master\n",
      "\n",
      "No commits yet\n",
      "\n",
      "Untracked files:\n",
      "  (use \"git add <file>...\" to include in what will be committed)\n",
      "\t.ipynb_checkpoints/\n",
      "\tBash.jpg\n",
      "\tTarea2-DCP.ipynb\n",
      "\tflujo.jpg\n",
      "\tgit.png\n",
      "\tgithub.png\n",
      "\tproceso.jpeg\n",
      "\n",
      "nothing added to commit but untracked files present (use \"git add\" to track)\n",
      "\n",
      "(base) C:\\Users\\Usuario\\Documents\\CDP-2021\\Tarea2>"
     ]
    }
   ],
   "source": [
    "%%cmd\n",
    "git status"
   ]
  },
  {
   "cell_type": "markdown",
   "metadata": {},
   "source": [
    "6. Se asocia git con github"
   ]
  },
  {
   "cell_type": "code",
   "execution_count": null,
   "metadata": {},
   "outputs": [],
   "source": [
    "%%cmd\n",
    "git remote add origin https://github.com/GladysAndrea/Tarea2-CDP.git"
   ]
  },
  {
   "cell_type": "markdown",
   "metadata": {},
   "source": [
    "7. Agregamos los archivos al stage\n",
    " - se usa \"*\" para seleccionar todos los archivos de la carpeta "
   ]
  },
  {
   "cell_type": "code",
   "execution_count": null,
   "metadata": {},
   "outputs": [],
   "source": [
    "%%cmd\n",
    "git add *"
   ]
  },
  {
   "cell_type": "markdown",
   "metadata": {},
   "source": [
    "8. Se vuelve a revisar el status"
   ]
  },
  {
   "cell_type": "code",
   "execution_count": null,
   "metadata": {},
   "outputs": [],
   "source": [
    "%%cmd\n",
    "git status"
   ]
  },
  {
   "cell_type": "markdown",
   "metadata": {},
   "source": [
    "9. Se hace un commit para registrar la versión más un mensaje para indicar que se está haciendo"
   ]
  },
  {
   "cell_type": "code",
   "execution_count": null,
   "metadata": {},
   "outputs": [],
   "source": [
    "%%cmd\n",
    "git commit -m \"Subiendo archivos tarea 2\""
   ]
  },
  {
   "cell_type": "markdown",
   "metadata": {},
   "source": [
    "10. Se suben los archivos a Git Hub. Al finalizar se da \"Refresh\" en GitHub"
   ]
  },
  {
   "cell_type": "code",
   "execution_count": null,
   "metadata": {},
   "outputs": [],
   "source": [
    "%%cmd\n",
    "git push origin master"
   ]
  },
  {
   "cell_type": "markdown",
   "metadata": {},
   "source": [
    "#### Comentarios\n",
    "\n",
    "* Se recomienda tener una carpeta exclusiva para el proyecto que se está trabajando para llevar orden y no subirarchivos que no se deseen.\n",
    "\n",
    "- Es interesante poder aprender y explorar estas herramientas, las cuales servirán para trabajar en equipo  y si hubiera algún error, poder identificarlo.\n",
    "\n",
    "- El uso de estas herramientas _ahorran tiempo y espacio de memoria_, ya que no se pierde el tiempo en estar almacenando nuevas versiones ni comparando los cambios que realizó cada integrante, así como el tiempo de unir todo el proyecto y hacer pruebas que funcione al 100%.\n",
    "\n",
    "#### Conclusiones\n",
    "* Git es una herramienta que controla las versiones de uno o varios proyectos, permitiendo detectar errores con facilidad y controlar el flujo d trabajo que se realiza cuando se está trabajando en conjunto con otras personas.\n",
    "\n",
    "* GitHub es un complemento de Git, ya que representa la versión remota de Git. Además permite compartir el codigo con otros usuarios para recibir retroalimentación del código y poder ir mejorando. También se puede compartir de forma privada (con costo mayor)\n",
    "\n",
    "* Los principales comandos que se utilizan para actulizar las versiones son: \n",
    " - git init\n",
    " - git diff\n",
    " - git add\n",
    " - git commit\n",
    " - git push"
   ]
  },
  {
   "cell_type": "markdown",
   "metadata": {},
   "source": [
    "Para conocer más [Comandos de Git](https://gist.github.com/dasdo/9ff71c5c0efa037441b6)"
   ]
  }
 ],
 "metadata": {
  "kernelspec": {
   "display_name": "Python 3",
   "language": "python",
   "name": "python3"
  },
  "language_info": {
   "codemirror_mode": {
    "name": "ipython",
    "version": 3
   },
   "file_extension": ".py",
   "mimetype": "text/x-python",
   "name": "python",
   "nbconvert_exporter": "python",
   "pygments_lexer": "ipython3",
   "version": "3.8.5"
  }
 },
 "nbformat": 4,
 "nbformat_minor": 4
}
